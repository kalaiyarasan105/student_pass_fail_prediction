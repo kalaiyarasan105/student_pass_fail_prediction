{
  "cells": [
    {
      "cell_type": "markdown",
      "metadata": {
        "id": "view-in-github",
        "colab_type": "text"
      },
      "source": [
        "<a href=\"https://colab.research.google.com/github/kalaiyarasan105/student_pass_fail_prediction/blob/main/student_pass_fail_prediction.ipynb\" target=\"_parent\"><img src=\"https://colab.research.google.com/assets/colab-badge.svg\" alt=\"Open In Colab\"/></a>"
      ]
    },
    {
      "cell_type": "markdown",
      "source": [
        "Import necessary libraries"
      ],
      "metadata": {
        "id": "s8Rx2KytO6Z6"
      },
      "id": "s8Rx2KytO6Z6"
    },
    {
      "cell_type": "code",
      "execution_count": null,
      "id": "a4dd2732",
      "metadata": {
        "id": "a4dd2732"
      },
      "outputs": [],
      "source": [
        "\n",
        "import pandas as pd\n",
        "import matplotlib.pyplot as plt\n",
        "from sklearn.model_selection import train_test_split\n",
        "from sklearn.linear_model import LogisticRegression\n",
        "from sklearn.metrics import accuracy_score"
      ]
    },
    {
      "cell_type": "markdown",
      "source": [
        "Create the dataset manually"
      ],
      "metadata": {
        "id": "LgtpxUm2O-tH"
      },
      "id": "LgtpxUm2O-tH"
    },
    {
      "cell_type": "code",
      "execution_count": null,
      "id": "b80fae37",
      "metadata": {
        "id": "b80fae37"
      },
      "outputs": [],
      "source": [
        "data = {\n",
        "    'Hours_Studied': [5, 2, 4, 1, 3, 6, 2, 4, 5, 1],\n",
        "    'Attendance': [85, 60, 75, 50, 70, 90, 65, 80, 88, 55],\n",
        "    'Pass_Fail': [1, 0, 1, 0, 1, 1, 0, 1, 1, 0]\n",
        "}\n",
        "\n",
        "df = pd.DataFrame(data)"
      ]
    },
    {
      "cell_type": "markdown",
      "source": [
        "Display the data"
      ],
      "metadata": {
        "id": "RnIDjV1sPDqh"
      },
      "id": "RnIDjV1sPDqh"
    },
    {
      "cell_type": "code",
      "execution_count": null,
      "id": "2db4eaf9",
      "metadata": {
        "id": "2db4eaf9"
      },
      "outputs": [],
      "source": [
        "print(\"Dataset:\n",
        "\", df)"
      ]
    },
    {
      "cell_type": "markdown",
      "source": [
        " Visualize the data"
      ],
      "metadata": {
        "id": "Ek6ilTNHPITZ"
      },
      "id": "Ek6ilTNHPITZ"
    },
    {
      "cell_type": "code",
      "execution_count": null,
      "id": "6729d087",
      "metadata": {
        "id": "6729d087"
      },
      "outputs": [],
      "source": [
        "plt.scatter(df['Hours_Studied'], df['Attendance'], c=df['Pass_Fail'], cmap='bwr')\n",
        "plt.xlabel('Hours Studied')\n",
        "plt.ylabel('Attendance (%)')\n",
        "plt.title('Student Pass/Fail Visualization')\n",
        "plt.colorbar(label='Pass = 1, Fail = 0')\n",
        "plt.grid(True)\n",
        "plt.show()"
      ]
    },
    {
      "cell_type": "markdown",
      "source": [
        "Split the data"
      ],
      "metadata": {
        "id": "Hs4YzYDjPPQv"
      },
      "id": "Hs4YzYDjPPQv"
    },
    {
      "cell_type": "code",
      "execution_count": null,
      "id": "12ac7d63",
      "metadata": {
        "id": "12ac7d63"
      },
      "outputs": [],
      "source": [
        "X = df[['Hours_Studied', 'Attendance']]\n",
        "y = df['Pass_Fail']\n",
        "\n",
        "X_train, X_test, y_train, y_test = train_test_split(X, y, test_size=0.3, random_state=42)"
      ]
    },
    {
      "cell_type": "markdown",
      "source": [
        "Train Logistic Regression model"
      ],
      "metadata": {
        "id": "vdUD3jCFPOn5"
      },
      "id": "vdUD3jCFPOn5"
    },
    {
      "cell_type": "code",
      "execution_count": null,
      "id": "7c163b84",
      "metadata": {
        "id": "7c163b84"
      },
      "outputs": [],
      "source": [
        "model = LogisticRegression()\n",
        "model.fit(X_train, y_train)"
      ]
    },
    {
      "cell_type": "markdown",
      "source": [
        "Make predictions and check accuracy"
      ],
      "metadata": {
        "id": "GGs1ZCXpPW3C"
      },
      "id": "GGs1ZCXpPW3C"
    },
    {
      "cell_type": "code",
      "execution_count": null,
      "id": "29f70ea3",
      "metadata": {
        "id": "29f70ea3"
      },
      "outputs": [],
      "source": [
        "# Step 7: Make predictions and check accuracy\n",
        "y_pred = model.predict(X_test)\n",
        "accuracy = accuracy_score(y_test, y_pred)\n",
        "\n",
        "print(f\"\\nModel Accuracy: {accuracy * 100:.2f}%\")"
      ]
    },
    {
      "cell_type": "markdown",
      "source": [
        "Predict for new values"
      ],
      "metadata": {
        "id": "pa6Zhp5NPZnD"
      },
      "id": "pa6Zhp5NPZnD"
    },
    {
      "cell_type": "code",
      "execution_count": null,
      "id": "bd9989e2",
      "metadata": {
        "id": "bd9989e2"
      },
      "outputs": [],
      "source": [
        "new_data = [[3, 70]]\n",
        "prediction = model.predict(new_data)\n",
        "\n",
        "print(\"\\nPrediction for 3 hours studied and 70% attendance:\")\n",
        "print(\"Pass\" if prediction[0] == 1 else \"Fail\")"
      ]
    }
  ],
  "metadata": {
    "kernelspec": {
      "display_name": "Python 3",
      "language": "python",
      "name": "python3"
    },
    "language_info": {
      "name": "python",
      "version": ""
    },
    "colab": {
      "provenance": [],
      "include_colab_link": true
    }
  },
  "nbformat": 4,
  "nbformat_minor": 5
}